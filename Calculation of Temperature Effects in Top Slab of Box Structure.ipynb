{
 "cells": [
  {
   "cell_type": "markdown",
   "metadata": {},
   "source": [
    "# Input Variables"
   ]
  },
  {
   "cell_type": "code",
   "execution_count": 1,
   "metadata": {},
   "outputs": [],
   "source": [
    "from math import pow as power"
   ]
  },
  {
   "cell_type": "code",
   "execution_count": 2,
   "metadata": {},
   "outputs": [],
   "source": [
    "Lc =8.2\n",
    "Vch = 4.00\n",
    "ht = 0.6\n",
    "hb =0.65\n",
    "hwlt =0.6\n",
    "hwRt = 0.45\n",
    "b = 1\n",
    "GradeConcrete = \"M35\"\n",
    "Ec = 3.2 * power(10, 6)\n",
    "alpha = 12 * power(10, -6)\n",
    "\n",
    "T1Rtopb = 13.80\n",
    "Total_T1R = 17.8\n",
    "T2R = 4.0\n",
    "T3R = 2.10\n",
    "T1ftopb = 9.90\n",
    "T2f = 0.70\n",
    "T3ftopb = 5.80\n",
    "T4f = 0.80\n",
    "\n",
    "L = Lc + hwlt/2 + hwRt/2\n",
    "y = Vch + ht/2 + hb/2\n",
    "yb = ht/2\n",
    "yt = ht/2\n",
    "\n",
    "A = b * ht\n",
    "MI = b * power(ht, 3) / 12\n",
    "Zt = MI/(ht * 0.5)\n",
    "Zb = MI/(ht * 0.5)"
   ]
  },
  {
   "cell_type": "code",
   "execution_count": 3,
   "metadata": {},
   "outputs": [
    {
     "name": "stdout",
     "output_type": "stream",
     "text": [
      "L:  8.725\n",
      "y:  4.625\n",
      "yb:  0.3\n",
      "yt:  0.3\n",
      "A:  0.6\n",
      "MI:  0.018\n",
      "Zt:  0.06\n",
      "Zb:  0.06\n"
     ]
    }
   ],
   "source": [
    "print(\"L: \", L)\n",
    "print(\"y: \", y)\n",
    "print(\"yb: \", yb)\n",
    "print(\"yt: \", yt)\n",
    "print(\"A: \", A)\n",
    "print(\"MI: \", MI)\n",
    "print(\"Zt: \", Zt)\n",
    "print(\"Zb: \", Zb)"
   ]
  },
  {
   "cell_type": "markdown",
   "metadata": {},
   "source": [
    "# Effects due to temperature rise"
   ]
  },
  {
   "cell_type": "code",
   "execution_count": 4,
   "metadata": {},
   "outputs": [],
   "source": [
    "h1R = 0.3*ht\n",
    "if(h1R > 0.15):\n",
    "    h1R = 0.15 # Final value is taken for design consideration\n",
    "\n",
    "h2R = 0.3*ht\n",
    "if(h2R < 0.10):\n",
    "    h2R = 0.10 # Final value is taken for design consideration\n",
    "elif(h2R > 0.25):\n",
    "    h2R = 0.25 # Final value is taken for design consideration\n",
    "\n",
    "h3R = 0.3*ht\n",
    "if(h3R > 0.15):\n",
    "    h3R = 0.15 # Final value is taken for design consideration"
   ]
  },
  {
   "cell_type": "code",
   "execution_count": 5,
   "metadata": {},
   "outputs": [
    {
     "name": "stdout",
     "output_type": "stream",
     "text": [
      "h1R:  0.15\n",
      "h2R:  0.18\n",
      "h3R:  0.15\n"
     ]
    }
   ],
   "source": [
    "print(\"h1R: \", h1R)\n",
    "print(\"h2R: \", h2R)\n",
    "print(\"h3R: \", h3R)"
   ]
  },
  {
   "cell_type": "markdown",
   "metadata": {},
   "source": [
    "# Forces generated due to temperature variation (rise)"
   ]
  },
  {
   "cell_type": "code",
   "execution_count": 6,
   "metadata": {},
   "outputs": [],
   "source": [
    "F1R = Ec * alpha * T1Rtopb * 0.5 * h1R * b\n",
    "F2R = Ec * alpha * T2R * 1.0 * h1R * b\n",
    "F3R = Ec * alpha * T2R * 0.5 * h2R * b\n",
    "F4R = Ec * alpha * T3R * 0.5 * h3R * b"
   ]
  },
  {
   "cell_type": "code",
   "execution_count": 7,
   "metadata": {},
   "outputs": [
    {
     "name": "stdout",
     "output_type": "stream",
     "text": [
      "F1R:  39.74399999999999\n",
      "F2R:  23.04\n",
      "F3R:  13.824\n",
      "F4R:  6.048\n"
     ]
    }
   ],
   "source": [
    "print(\"F1R: \", F1R)\n",
    "print(\"F2R: \", F2R)\n",
    "print(\"F3R: \", F3R)\n",
    "print(\"F4R: \", F4R)"
   ]
  },
  {
   "cell_type": "markdown",
   "metadata": {},
   "source": [
    "# $c \\cdot g$ individual component from top/bottom (rise)"
   ]
  },
  {
   "cell_type": "code",
   "execution_count": 8,
   "metadata": {},
   "outputs": [],
   "source": [
    "cg1R = h1R/3\n",
    "cg2R = h1R/2\n",
    "cg3R = h1R + h2R/3\n",
    "cg4R = h3R/3"
   ]
  },
  {
   "cell_type": "code",
   "execution_count": 9,
   "metadata": {},
   "outputs": [
    {
     "name": "stdout",
     "output_type": "stream",
     "text": [
      "cg1R:  0.049999999999999996\n",
      "cg2R:  0.075\n",
      "cg3R:  0.21\n",
      "cg4R:  0.049999999999999996\n"
     ]
    }
   ],
   "source": [
    "print(\"cg1R: \", cg1R)\n",
    "print(\"cg2R: \", cg2R)\n",
    "print(\"cg3R: \", cg3R)\n",
    "print(\"cg4R: \", cg4R)"
   ]
  },
  {
   "cell_type": "markdown",
   "metadata": {},
   "source": [
    "# Eccentricity (rise)"
   ]
  },
  {
   "cell_type": "code",
   "execution_count": 10,
   "metadata": {},
   "outputs": [],
   "source": [
    "e1R = yt - cg1R\n",
    "e2R = yt - cg2R\n",
    "e3R = yt - cg3R\n",
    "e4R = yb - cg4R"
   ]
  },
  {
   "cell_type": "code",
   "execution_count": 11,
   "metadata": {},
   "outputs": [
    {
     "name": "stdout",
     "output_type": "stream",
     "text": [
      "e1R:  0.25\n",
      "e2R:  0.22499999999999998\n",
      "e3R:  0.09\n",
      "e4R:  0.25\n"
     ]
    }
   ],
   "source": [
    "print(\"e1R: \", e1R)\n",
    "print(\"e2R: \", e2R)\n",
    "print(\"e3R: \", e3R)\n",
    "print(\"e4R: \", e4R)"
   ]
  },
  {
   "cell_type": "markdown",
   "metadata": {},
   "source": [
    "# Moments generated due to temperature variation (rise)"
   ]
  },
  {
   "cell_type": "code",
   "execution_count": 12,
   "metadata": {},
   "outputs": [],
   "source": [
    "M1R = F1R * e1R\n",
    "M2R = F2R * e2R\n",
    "M3R = F3R * e3R\n",
    "M4R = F4R * e4R\n",
    "Total_MR = M1R + M2R + M3R - M4R\n",
    "MF_TempRise = Total_MR * 10 "
   ]
  },
  {
   "cell_type": "code",
   "execution_count": 13,
   "metadata": {},
   "outputs": [
    {
     "name": "stdout",
     "output_type": "stream",
     "text": [
      "M1R:  9.935999999999998\n",
      "M2R:  5.183999999999999\n",
      "M3R:  1.24416\n",
      "M4R:  1.512\n",
      "Total_MR:  14.852159999999998\n",
      "MF_TempRise:  148.52159999999998\n"
     ]
    }
   ],
   "source": [
    "print(\"M1R: \", M1R)\n",
    "print(\"M2R: \", M2R)\n",
    "print(\"M3R: \", M3R)\n",
    "print(\"M4R: \", M4R)\n",
    "print(\"Total_MR: \", Total_MR)\n",
    "print(\"MF_TempRise: \", MF_TempRise)"
   ]
  },
  {
   "cell_type": "markdown",
   "metadata": {},
   "source": [
    "# Temperature Fall Case (fall case)"
   ]
  },
  {
   "cell_type": "code",
   "execution_count": 14,
   "metadata": {},
   "outputs": [],
   "source": [
    "h1f = 0.2*ht\n",
    "if(h1f > 0.25):\n",
    "    h1f = 0.25\n",
    "\n",
    "h4f = h1f\n",
    "\n",
    "h2f = 0.25*ht\n",
    "if(h2f > 0.25):\n",
    "    h2f = 0.25\n",
    "\n",
    "h3f = h2f"
   ]
  },
  {
   "cell_type": "code",
   "execution_count": 15,
   "metadata": {},
   "outputs": [
    {
     "name": "stdout",
     "output_type": "stream",
     "text": [
      "h1f:  0.12\n",
      "h4f:  0.12\n",
      "h2f:  0.15\n",
      "h3f:  0.15\n"
     ]
    }
   ],
   "source": [
    "print(\"h1f: \", h1f)\n",
    "print(\"h4f: \", h4f)\n",
    "print(\"h2f: \", h2f)\n",
    "print(\"h3f: \", h3f)"
   ]
  },
  {
   "cell_type": "markdown",
   "metadata": {},
   "source": [
    "# Forces generated due to temperature variation (fall case)"
   ]
  },
  {
   "cell_type": "code",
   "execution_count": 16,
   "metadata": {},
   "outputs": [],
   "source": [
    "F1f = Ec * alpha * T1ftopb * 0.5 * h1f * b\n",
    "F2f = Ec * alpha * T2f * 1.0 * h1f * b\n",
    "F3f = Ec * alpha * T2f * 0.5 * h2f * b\n",
    "F4f = Ec * alpha * T4f * 0.5 * h3f * b\n",
    "F5f = Ec * alpha * T4f * 1.0 * h4f * b\n",
    "F6f = Ec * alpha * T3ftopb * 0.5 * h4f * b"
   ]
  },
  {
   "cell_type": "code",
   "execution_count": 17,
   "metadata": {},
   "outputs": [
    {
     "name": "stdout",
     "output_type": "stream",
     "text": [
      "F1f:  22.8096\n",
      "F2f:  3.2255999999999996\n",
      "F3f:  2.016\n",
      "F4f:  2.304\n",
      "F5f:  3.6864\n",
      "F6f:  13.363199999999999\n"
     ]
    }
   ],
   "source": [
    "print(\"F1f: \", F1f)\n",
    "print(\"F2f: \", F2f)\n",
    "print(\"F3f: \", F3f)\n",
    "print(\"F4f: \", F4f)\n",
    "print(\"F5f: \", F5f)\n",
    "print(\"F6f: \", F6f)"
   ]
  },
  {
   "cell_type": "markdown",
   "metadata": {},
   "source": [
    "# $c \\cdot g$ individual component from top/bottom (fall case)"
   ]
  },
  {
   "cell_type": "code",
   "execution_count": 18,
   "metadata": {},
   "outputs": [],
   "source": [
    "cg1f = h1f/3\n",
    "cg2f = h1f/2\n",
    "cg3f = h1f + h2f/3\n",
    "cg4f = h4f + h3f/3\n",
    "cg5f = h4f/2\n",
    "cg6f = h4f/3"
   ]
  },
  {
   "cell_type": "code",
   "execution_count": 19,
   "metadata": {},
   "outputs": [
    {
     "name": "stdout",
     "output_type": "stream",
     "text": [
      "cg1f:  0.04\n",
      "cg2f:  0.06\n",
      "cg3f:  0.16999999999999998\n",
      "cg4f:  0.16999999999999998\n",
      "cg5f:  0.06\n",
      "cg6f:  0.04\n"
     ]
    }
   ],
   "source": [
    "print(\"cg1f: \", cg1f)\n",
    "print(\"cg2f: \", cg2f)\n",
    "print(\"cg3f: \", cg3f)\n",
    "print(\"cg4f: \", cg4f)\n",
    "print(\"cg5f: \", cg5f)\n",
    "print(\"cg6f: \", cg6f)"
   ]
  },
  {
   "cell_type": "markdown",
   "metadata": {},
   "source": [
    "# Eccentricity (fall)"
   ]
  },
  {
   "cell_type": "code",
   "execution_count": 20,
   "metadata": {},
   "outputs": [],
   "source": [
    "e1f = yt - cg1f\n",
    "e2f = yt - cg2f\n",
    "e3f = yt - cg3f\n",
    "e4f = yb - cg4f\n",
    "e5f = yb - cg5f\n",
    "e6f = yb - cg6f"
   ]
  },
  {
   "cell_type": "code",
   "execution_count": 21,
   "metadata": {},
   "outputs": [
    {
     "name": "stdout",
     "output_type": "stream",
     "text": [
      "e1f:  0.26\n",
      "e2f:  0.24\n",
      "e3f:  0.13\n",
      "e4f:  0.13\n",
      "e5f:  0.24\n",
      "e6f:  0.26\n"
     ]
    }
   ],
   "source": [
    "print(\"e1f: \", e1f)\n",
    "print(\"e2f: \", e2f)\n",
    "print(\"e3f: \", e3f)\n",
    "print(\"e4f: \", e4f)\n",
    "print(\"e5f: \", e5f)\n",
    "print(\"e6f: \", e6f)"
   ]
  },
  {
   "cell_type": "markdown",
   "metadata": {},
   "source": [
    "# Moments generated due to temperature variation (fall)"
   ]
  },
  {
   "cell_type": "code",
   "execution_count": 22,
   "metadata": {},
   "outputs": [],
   "source": [
    "Mfa1 = F1f * e1f\n",
    "Mfa2 = F2f * e2f\n",
    "Mfa3 = F3f * e3f\n",
    "Mfa4 = F4f * e4f\n",
    "Mfa5 = F5f * e5f\n",
    "Mfa6 = F6f * e6f\n",
    "Total_Mfa = Mfa1 + Mfa2 + Mfa3 - Mfa4 - Mfa5 - Mfa6\n",
    "MF_TempFall = Total_Mfa * 10"
   ]
  },
  {
   "cell_type": "code",
   "execution_count": 23,
   "metadata": {},
   "outputs": [
    {
     "name": "stdout",
     "output_type": "stream",
     "text": [
      "Mfa1:  5.930496\n",
      "Mfa2:  0.7741439999999998\n",
      "Mfa3:  0.26208000000000004\n",
      "Mfa4:  0.29952\n",
      "Mfa5:  0.884736\n",
      "Mfa6:  3.4744319999999997\n",
      "MF_TempFall:  23.080319999999993\n"
     ]
    }
   ],
   "source": [
    "print(\"Mfa1: \", Mfa1)\n",
    "print(\"Mfa2: \", Mfa2)\n",
    "print(\"Mfa3: \", Mfa3)\n",
    "print(\"Mfa4: \", Mfa4)\n",
    "print(\"Mfa5: \", Mfa5)\n",
    "print(\"Mfa6: \", Mfa6)\n",
    "print(\"MF_TempFall: \", MF_TempFall)"
   ]
  },
  {
   "cell_type": "code",
   "execution_count": 24,
   "metadata": {},
   "outputs": [
    {
     "name": "stdout",
     "output_type": "stream",
     "text": [
      "Mf:  148.52159999999998\n"
     ]
    }
   ],
   "source": [
    "Mf = max(MF_TempRise, MF_TempFall)\n",
    "print(\"Mf: \", Mf)"
   ]
  },
  {
   "cell_type": "code",
   "execution_count": 25,
   "metadata": {},
   "outputs": [
    {
     "name": "stdout",
     "output_type": "stream",
     "text": [
      "lambda_value:  0.26504297994269344\n"
     ]
    }
   ],
   "source": [
    "lambda_value = 0.5 * power((ht/hwlt), 3) * (y/L)\n",
    "print(\"lambda_value: \", lambda_value)"
   ]
  },
  {
   "cell_type": "code",
   "execution_count": 26,
   "metadata": {},
   "outputs": [
    {
     "name": "stdout",
     "output_type": "stream",
     "text": [
      "MRoofSlab:  117.4043904869762\n"
     ]
    }
   ],
   "source": [
    "MRoofSlab = Mf/(1 + lambda_value)\n",
    "print(\"MRoofSlab: \", MRoofSlab)"
   ]
  },
  {
   "cell_type": "code",
   "execution_count": 27,
   "metadata": {},
   "outputs": [
    {
     "name": "stdout",
     "output_type": "stream",
     "text": [
      "MBottomSlab:  58.7021952434881\n"
     ]
    }
   ],
   "source": [
    "MBottomSlab = MRoofSlab/2\n",
    "print(\"MBottomSlab: \", MBottomSlab)"
   ]
  },
  {
   "cell_type": "markdown",
   "metadata": {},
   "source": [
    "## Hence finalised fixed end moments of box shape structure due to temperature variations are described as follows:\n",
    "\n",
    "### MAB = MBA = MRoofSlab\n",
    "### MAD = MBC = MRoofSlab\n",
    "### MCB = MDA = MBottomSlab\n",
    "### MCD = MDC = MBottomSlab"
   ]
  },
  {
   "cell_type": "code",
   "execution_count": 28,
   "metadata": {},
   "outputs": [
    {
     "name": "stdout",
     "output_type": "stream",
     "text": [
      "MRoofSlab:  117.4043904869762\n",
      "MAB:  117.4043904869762\n",
      "MBA:  117.4043904869762\n",
      "MAD:  117.4043904869762\n",
      "MBC:  117.4043904869762\n",
      "\n",
      "MBottomSlab:  58.7021952434881\n",
      "MCB:  58.7021952434881\n",
      "MDA:  58.7021952434881\n",
      "MCD:  58.7021952434881\n",
      "MDC:  58.7021952434881\n"
     ]
    }
   ],
   "source": [
    "MAB = MBA = MRoofSlab\n",
    "MAD = MBC = MRoofSlab\n",
    "MCB = MDA = MBottomSlab\n",
    "MCD = MDC = MBottomSlab\n",
    "\n",
    "print(\"MRoofSlab: \", MRoofSlab)\n",
    "print(\"MAB: \", MAB)\n",
    "print(\"MBA: \", MBA)\n",
    "print(\"MAD: \", MAD)\n",
    "print(\"MBC: \", MBC)\n",
    "print(\"\\nMBottomSlab: \", MBottomSlab)\n",
    "print(\"MCB: \", MCB)\n",
    "print(\"MDA: \", MDA)\n",
    "print(\"MCD: \", MCD)\n",
    "print(\"MDC: \", MDC)"
   ]
  },
  {
   "cell_type": "code",
   "execution_count": null,
   "metadata": {},
   "outputs": [],
   "source": []
  }
 ],
 "metadata": {
  "kernelspec": {
   "display_name": "Python 3",
   "language": "python",
   "name": "python3"
  },
  "language_info": {
   "codemirror_mode": {
    "name": "ipython",
    "version": 3
   },
   "file_extension": ".py",
   "mimetype": "text/x-python",
   "name": "python",
   "nbconvert_exporter": "python",
   "pygments_lexer": "ipython3",
   "version": "3.7.0"
  }
 },
 "nbformat": 4,
 "nbformat_minor": 2
}
