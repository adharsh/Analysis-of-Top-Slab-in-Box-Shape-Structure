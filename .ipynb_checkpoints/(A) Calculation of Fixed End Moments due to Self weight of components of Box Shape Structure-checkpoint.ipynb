{
 "cells": [
  {
   "cell_type": "markdown",
   "metadata": {},
   "source": [
    "# (A) Calculation of Fixed End Moments due to Self weight of components of Box Shape Structure"
   ]
  },
  {
   "cell_type": "markdown",
   "metadata": {},
   "source": [
    "# Input Variables"
   ]
  },
  {
   "cell_type": "code",
   "execution_count": 1,
   "metadata": {},
   "outputs": [],
   "source": [
    "from math import pow as power"
   ]
  },
  {
   "cell_type": "code",
   "execution_count": 2,
   "metadata": {},
   "outputs": [],
   "source": [
    "Lc = 8.2\n",
    "Vch = 4.00\n",
    "ht = 0.6\n",
    "hb = 0.65\n",
    "hwlt = 0.6\n",
    "hwRt = 0.45\n",
    "b = 1\n",
    "GradeConcrete = \"M35\"\n",
    "\n",
    "gamma_concrete = 25\n",
    "gamma_soil = 22\n",
    "gamma_wearingcoat = 22\n",
    "\n",
    "CWclear = 11\n",
    "WICB = 0\n",
    "DICB = 0\n",
    "WFP = 0\n",
    "DFP = 0\n",
    "WOkerb =.5\n",
    "DOkerb = 0.5\n",
    "WOCB = 0\n",
    "DOCB = 0\n",
    "Whaunch = 0.15\n",
    "Dhaunch = 0.15\n",
    "Total_CW_o = CWclear + 2*(WICB + WFP + WOkerb)\n",
    "\n",
    "L = Lc + hwlt/2 + hwRt/2\n",
    "y = Vch + ht/2 + hb/2\n",
    "L0 = Lc + hwlt + hwRt"
   ]
  },
  {
   "cell_type": "markdown",
   "metadata": {},
   "source": [
    "# FEM (MABSW = MBASW) on top slab due to its own self weight "
   ]
  },
  {
   "cell_type": "code",
   "execution_count": 3,
   "metadata": {},
   "outputs": [
    {
     "data": {
      "text/plain": [
       "1671.7499999999995"
      ]
     },
     "execution_count": 3,
     "metadata": {},
     "output_type": "execute_result"
    }
   ],
   "source": [
    "Tswtop = (Total_CW_o*L0*ht*gamma_concrete) + (Total_CW_o*0.5*2*Whaunch * Dhaunch * gamma_concrete)\n",
    "Tswtop"
   ]
  },
  {
   "cell_type": "code",
   "execution_count": 4,
   "metadata": {},
   "outputs": [
    {
     "data": {
      "text/plain": [
       "15.967048710601716"
      ]
     },
     "execution_count": 4,
     "metadata": {},
     "output_type": "execute_result"
    }
   ],
   "source": [
    "Wswtop = Tswtop/(L * Total_CW_o)\n",
    "Wswtop"
   ]
  },
  {
   "cell_type": "code",
   "execution_count": 5,
   "metadata": {},
   "outputs": [
    {
     "data": {
      "text/plain": [
       "101.29179687499999"
      ]
     },
     "execution_count": 5,
     "metadata": {},
     "output_type": "execute_result"
    }
   ],
   "source": [
    "MABFEswtop = (Wswtop * power(L, 2)) / 12\n",
    "MABFEswtop"
   ]
  },
  {
   "cell_type": "code",
   "execution_count": 6,
   "metadata": {},
   "outputs": [
    {
     "data": {
      "text/plain": [
       "101.29179687499999"
      ]
     },
     "execution_count": 6,
     "metadata": {},
     "output_type": "execute_result"
    }
   ],
   "source": [
    "MBAFEswtop = MABFEswtop\n",
    "MBAFEswtop"
   ]
  },
  {
   "cell_type": "code",
   "execution_count": 7,
   "metadata": {},
   "outputs": [
    {
     "data": {
      "text/plain": [
       "69.65624999999999"
      ]
     },
     "execution_count": 7,
     "metadata": {},
     "output_type": "execute_result"
    }
   ],
   "source": [
    "RAFEswtop = Wswtop * 0.5 * L\n",
    "RAFEswtop"
   ]
  },
  {
   "cell_type": "code",
   "execution_count": 8,
   "metadata": {},
   "outputs": [
    {
     "data": {
      "text/plain": [
       "69.65624999999999"
      ]
     },
     "execution_count": 8,
     "metadata": {},
     "output_type": "execute_result"
    }
   ],
   "source": [
    "RBFEswtop = RAFEswtop\n",
    "RAFEswtop"
   ]
  },
  {
   "cell_type": "markdown",
   "metadata": {},
   "source": [
    "# FEM (MCDSW = MDCSW) on bottom slab due to its own self weight "
   ]
  },
  {
   "cell_type": "code",
   "execution_count": 9,
   "metadata": {},
   "outputs": [
    {
     "data": {
      "text/plain": [
       "1810.4999999999995"
      ]
     },
     "execution_count": 9,
     "metadata": {},
     "output_type": "execute_result"
    }
   ],
   "source": [
    "Tswbottom = (Total_CW_o*L0*hb*gamma_concrete) + (Total_CW_o*0.5*2*Whaunch * Dhaunch * gamma_concrete)\n",
    "Tswbottom"
   ]
  },
  {
   "cell_type": "code",
   "execution_count": 10,
   "metadata": {},
   "outputs": [
    {
     "data": {
      "text/plain": [
       "17.292263610315185"
      ]
     },
     "execution_count": 10,
     "metadata": {},
     "output_type": "execute_result"
    }
   ],
   "source": [
    "Wswbottom = Tswbottom/(L * Total_CW_o)\n",
    "Wswbottom"
   ]
  },
  {
   "cell_type": "code",
   "execution_count": 11,
   "metadata": {},
   "outputs": [
    {
     "data": {
      "text/plain": [
       "109.69869791666666"
      ]
     },
     "execution_count": 11,
     "metadata": {},
     "output_type": "execute_result"
    }
   ],
   "source": [
    "MCDFEswbottom = (Wswbottom * power(L, 2)) / 12\n",
    "MCDFEswbottom"
   ]
  },
  {
   "cell_type": "code",
   "execution_count": 12,
   "metadata": {},
   "outputs": [
    {
     "data": {
      "text/plain": [
       "109.69869791666666"
      ]
     },
     "execution_count": 12,
     "metadata": {},
     "output_type": "execute_result"
    }
   ],
   "source": [
    "MDCFEswbottom = MCDFEswbottom\n",
    "MDCFEswbottom"
   ]
  },
  {
   "cell_type": "code",
   "execution_count": 13,
   "metadata": {},
   "outputs": [
    {
     "data": {
      "text/plain": [
       "75.43749999999999"
      ]
     },
     "execution_count": 13,
     "metadata": {},
     "output_type": "execute_result"
    }
   ],
   "source": [
    "RCFEswbottom = Wswbottom * 0.5 * L\n",
    "RCFEswbottom"
   ]
  },
  {
   "cell_type": "code",
   "execution_count": 14,
   "metadata": {},
   "outputs": [
    {
     "data": {
      "text/plain": [
       "75.43749999999999"
      ]
     },
     "execution_count": 14,
     "metadata": {},
     "output_type": "execute_result"
    }
   ],
   "source": [
    "RDFEswbottom = RCFEswbottom\n",
    "RDFEswbottom"
   ]
  },
  {
   "cell_type": "markdown",
   "metadata": {},
   "source": [
    "# FEM (MADSW = MDASW) on left side vertical wall due to its own self weight"
   ]
  },
  {
   "cell_type": "code",
   "execution_count": 15,
   "metadata": {},
   "outputs": [
    {
     "data": {
      "text/plain": [
       "15.0"
      ]
     },
     "execution_count": 15,
     "metadata": {},
     "output_type": "execute_result"
    }
   ],
   "source": [
    "SWLtsideWall = 1*1*hwlt*gamma_concrete \n",
    "SWLtsideWall"
   ]
  },
  {
   "cell_type": "code",
   "execution_count": 16,
   "metadata": {},
   "outputs": [
    {
     "data": {
      "text/plain": [
       "26.73828125"
      ]
     },
     "execution_count": 16,
     "metadata": {},
     "output_type": "execute_result"
    }
   ],
   "source": [
    "MADFESW = (SWLtsideWall * power(y, 2))/12\n",
    "MADFESW"
   ]
  },
  {
   "cell_type": "code",
   "execution_count": 17,
   "metadata": {},
   "outputs": [
    {
     "data": {
      "text/plain": [
       "26.73828125"
      ]
     },
     "execution_count": 17,
     "metadata": {},
     "output_type": "execute_result"
    }
   ],
   "source": [
    "MDAFESW = MADFESW\n",
    "MDAFESW"
   ]
  },
  {
   "cell_type": "code",
   "execution_count": 18,
   "metadata": {},
   "outputs": [
    {
     "data": {
      "text/plain": [
       "34.6875"
      ]
     },
     "execution_count": 18,
     "metadata": {},
     "output_type": "execute_result"
    }
   ],
   "source": [
    "HASW = 0.5*y*SWLtsideWall\n",
    "HASW"
   ]
  },
  {
   "cell_type": "code",
   "execution_count": 19,
   "metadata": {},
   "outputs": [
    {
     "data": {
      "text/plain": [
       "34.6875"
      ]
     },
     "execution_count": 19,
     "metadata": {},
     "output_type": "execute_result"
    }
   ],
   "source": [
    "HDSW = HASW\n",
    "HDSW"
   ]
  },
  {
   "cell_type": "markdown",
   "metadata": {},
   "source": [
    "# FEM (MBCSW = MCBSW) on right side vertical wall due to its own self weight"
   ]
  },
  {
   "cell_type": "code",
   "execution_count": 20,
   "metadata": {},
   "outputs": [
    {
     "data": {
      "text/plain": [
       "11.25"
      ]
     },
     "execution_count": 20,
     "metadata": {},
     "output_type": "execute_result"
    }
   ],
   "source": [
    "SWRtsideWall = 1*1*hwRt*gamma_concrete\n",
    "SWRtsideWall"
   ]
  },
  {
   "cell_type": "code",
   "execution_count": 26,
   "metadata": {},
   "outputs": [
    {
     "data": {
      "text/plain": [
       "20.0537109375"
      ]
     },
     "execution_count": 26,
     "metadata": {},
     "output_type": "execute_result"
    }
   ],
   "source": [
    "MBCFESW = (SWRtsideWall * power(y, 2))/12\n",
    "MBCFESW"
   ]
  },
  {
   "cell_type": "code",
   "execution_count": 22,
   "metadata": {},
   "outputs": [
    {
     "data": {
      "text/plain": [
       "20.0537109375"
      ]
     },
     "execution_count": 22,
     "metadata": {},
     "output_type": "execute_result"
    }
   ],
   "source": [
    "MCBFESW = MBCFESW\n",
    "MCBFESW"
   ]
  },
  {
   "cell_type": "code",
   "execution_count": 23,
   "metadata": {},
   "outputs": [
    {
     "data": {
      "text/plain": [
       "26.015625"
      ]
     },
     "execution_count": 23,
     "metadata": {},
     "output_type": "execute_result"
    }
   ],
   "source": [
    "HBSW = 0.5*y*SWRtsideWall\n",
    "HBSW"
   ]
  },
  {
   "cell_type": "code",
   "execution_count": 24,
   "metadata": {},
   "outputs": [
    {
     "data": {
      "text/plain": [
       "26.015625"
      ]
     },
     "execution_count": 24,
     "metadata": {},
     "output_type": "execute_result"
    }
   ],
   "source": [
    "HCSW = HBSW\n",
    "HCSW"
   ]
  },
  {
   "cell_type": "markdown",
   "metadata": {},
   "source": [
    "# Finalized Fixed End Moments due to its self weight components"
   ]
  },
  {
   "cell_type": "code",
   "execution_count": 25,
   "metadata": {},
   "outputs": [
    {
     "name": "stdout",
     "output_type": "stream",
     "text": [
      "MABFEswtop:  101.29179687499999\n",
      "MBAFEswtop:  101.29179687499999\n",
      "MCDFEswbottom:  109.69869791666666\n",
      "MDCFEswbottom:  109.69869791666666\n",
      "MADFESW:  26.73828125\n",
      "MDAFESW:  26.73828125\n",
      "MBCFESW:  20.0537109375\n",
      "MCBFESW:  20.0537109375\n"
     ]
    }
   ],
   "source": [
    "print(\"MABFEswtop: \", MABFEswtop)\n",
    "print(\"MBAFEswtop: \", MBAFEswtop)\n",
    "print(\"MCDFEswbottom: \", MCDFEswbottom)\n",
    "print(\"MDCFEswbottom: \", MDCFEswbottom)\n",
    "print(\"MADFESW: \", MADFESW)\n",
    "print(\"MDAFESW: \", MDAFESW)\n",
    "print(\"MBCFESW: \", MBCFESW)\n",
    "print(\"MCBFESW: \", MCBFESW)"
   ]
  }
 ],
 "metadata": {
  "kernelspec": {
   "display_name": "Python 3",
   "language": "python",
   "name": "python3"
  },
  "language_info": {
   "codemirror_mode": {
    "name": "ipython",
    "version": 3
   },
   "file_extension": ".py",
   "mimetype": "text/x-python",
   "name": "python",
   "nbconvert_exporter": "python",
   "pygments_lexer": "ipython3",
   "version": "3.7.0"
  }
 },
 "nbformat": 4,
 "nbformat_minor": 2
}
